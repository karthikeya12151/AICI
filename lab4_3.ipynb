{
  "nbformat": 4,
  "nbformat_minor": 0,
  "metadata": {
    "colab": {
      "provenance": [],
      "authorship_tag": "ABX9TyPln23+zDzjaRugNMtl4mEB",
      "include_colab_link": true
    },
    "kernelspec": {
      "name": "python3",
      "display_name": "Python 3"
    },
    "language_info": {
      "name": "python"
    }
  },
  "cells": [
    {
      "cell_type": "markdown",
      "metadata": {
        "id": "view-in-github",
        "colab_type": "text"
      },
      "source": [
        "<a href=\"https://colab.research.google.com/github/karthikeya12151/AICI/blob/main/lab4_3.ipynb\" target=\"_parent\"><img src=\"https://colab.research.google.com/assets/colab-badge.svg\" alt=\"Open In Colab\"/></a>"
      ]
    },
    {
      "cell_type": "markdown",
      "source": [
        "Zero-shot: Prompt AI to write a function that checks whether a given year is a leap year"
      ],
      "metadata": {
        "id": "4kFZnrJkEo_o"
      }
    },
    {
      "cell_type": "code",
      "source": [],
      "metadata": {
        "id": "fXRzId2hE8AB"
      },
      "execution_count": null,
      "outputs": []
    },
    {
      "cell_type": "code",
      "metadata": {
        "colab": {
          "base_uri": "https://localhost:8080/"
        },
        "id": "ddf33d32",
        "outputId": "8c3bd7e4-30ef-454f-c98a-2ceb8821d558"
      },
      "source": [
        "def is_leap(year):\n",
        "    \"\"\"\n",
        "    Checks if a given year is a leap year.\n",
        "\n",
        "    Args:\n",
        "      year: An integer representing the year.\n",
        "\n",
        "    Returns:\n",
        "      True if the year is a leap year, False otherwise.\n",
        "    \"\"\"\n",
        "    if (year % 4 == 0 and year % 100 != 0) or (year % 400 == 0):\n",
        "        return True\n",
        "    else:\n",
        "        return False\n",
        "\n",
        "# Get input from the user\n",
        "year = int(input(\"Enter a year: \"))\n",
        "\n",
        "# Check if it's a leap year and print the result\n",
        "if is_leap(year):\n",
        "    print(f\"{year} is a leap year.\")\n",
        "else:\n",
        "    print(f\"{year} is not a leap year.\")"
      ],
      "execution_count": 2,
      "outputs": [
        {
          "output_type": "stream",
          "name": "stdout",
          "text": [
            "Enter a year: 2024\n",
            "2024 is a leap year.\n"
          ]
        }
      ]
    },
    {
      "cell_type": "markdown",
      "source": [
        "●One-shot: Give one input-output example to guide AI in writing a function that converts centimeters to inches."
      ],
      "metadata": {
        "id": "wpA4AJvlFQfG"
      }
    },
    {
      "cell_type": "code",
      "source": [],
      "metadata": {
        "id": "YeYO59vTFVEs"
      },
      "execution_count": null,
      "outputs": []
    },
    {
      "cell_type": "code",
      "metadata": {
        "colab": {
          "base_uri": "https://localhost:8080/"
        },
        "id": "2b9c94eb",
        "outputId": "91f078e7-6b9b-4c1e-d70f-6052843e3bbd"
      },
      "source": [
        "def cm_to_inches(cm):\n",
        "  \"\"\"\n",
        "  Converts centimeters to inches.\n",
        "\n",
        "  Args:\n",
        "    cm: A float representing the measurement in centimeters.\n",
        "\n",
        "  Returns:\n",
        "    A float representing the measurement in inches.\n",
        "  \"\"\"\n",
        "  inches = cm * 0.393701\n",
        "  return inches\n",
        "\n",
        "# Get input from the user\n",
        "cm = float(input(\"Enter measurement in centimeters: \"))\n",
        "\n",
        "# Convert to inches and print the result\n",
        "inches = cm_to_inches(cm)\n",
        "print(f\"{cm} centimeters is equal to {inches} inches.\")\n",
        "\n",
        "# Example provided by the user\n",
        "example_cm = 50\n",
        "example_inches = cm_to_inches(example_cm)\n",
        "print(f\"Example: If the input is {example_cm}, the output should be {example_inches}\")"
      ],
      "execution_count": 3,
      "outputs": [
        {
          "output_type": "stream",
          "name": "stdout",
          "text": [
            "Enter measurement in centimeters: 100\n",
            "100.0 centimeters is equal to 39.3701 inches.\n",
            "Example: If the input is 50, the output should be 19.68505\n"
          ]
        }
      ]
    },
    {
      "cell_type": "markdown",
      "source": [
        "Few-shot: Provide 2–3 examples to generate a function that formats full names as “Last, First”."
      ],
      "metadata": {
        "id": "vkSAnVvqFoxw"
      }
    },
    {
      "cell_type": "code",
      "source": [
        "def format_name(full_name):\n",
        "  \"\"\"\n",
        "  Formats a full name as \"Last, First\".\n",
        "\n",
        "  Args:\n",
        "    full_name: A string representing the full name (e.g., \"Ada Lovelace\").\n",
        "\n",
        "  Returns:\n",
        "    A string representing the name in \"Last, First\" format.\n",
        "  \"\"\"\n",
        "  name_parts = full_name.split()\n",
        "  if len(name_parts) >= 2:\n",
        "    return f\"{name_parts[-1]}, {' '.join(name_parts[:-1])}\"\n",
        "  else:\n",
        "    return full_name # Return the original name if it doesn't have at least two parts\n",
        "\n",
        "# Get input from the user\n",
        "full_name = input(\"Enter a full name: \")\n",
        "\n",
        "# Format the name and print the result\n",
        "formatted_name = format_name(full_name)\n",
        "print(f\"Formatted name: {formatted_name}\")\n",
        "\n",
        "# Examples provided by the user\n",
        "examples = [\n",
        "    (\"Ada Lovelace\", \"Lovelace, Ada\"),\n",
        "    (\"Grace Hopper\", \"Hopper, Grace\")\n",
        "]\n",
        "\n",
        "print(\"\\nExamples:\")\n",
        "for input_name, expected_output in examples:\n",
        "  actual_output = format_name(input_name)\n",
        "  print(f\"Input: \\\"{input_name}\\\" Output: \\\"{actual_output}\\\" Expected: \\\"{expected_output}\\\"\")"
      ],
      "metadata": {
        "colab": {
          "base_uri": "https://localhost:8080/"
        },
        "id": "ETuyJuZDFsq4",
        "outputId": "d79764cd-5e09-464b-bc45-f3b6b58982ae"
      },
      "execution_count": 4,
      "outputs": [
        {
          "output_type": "stream",
          "name": "stdout",
          "text": [
            "Enter a full name: karthik sunny\n",
            "Formatted name: sunny, karthik\n",
            "\n",
            "Examples:\n",
            "Input: \"Ada Lovelace\" Output: \"Lovelace, Ada\" Expected: \"Lovelace, Ada\"\n",
            "Input: \"Grace Hopper\" Output: \"Hopper, Grace\" Expected: \"Hopper, Grace\"\n"
          ]
        }
      ]
    },
    {
      "cell_type": "markdown",
      "source": [
        "●Compare zero-shot and few-shot prompts for writing a function that counts the number of vowels in a string."
      ],
      "metadata": {
        "id": "Rd6wmBxDF9EG"
      }
    },
    {
      "cell_type": "code",
      "source": [
        "def count_vowels(text):\n",
        "  \"\"\"\n",
        "  Counts the number of vowels in a string.\n",
        "\n",
        "  Args:\n",
        "    text: A string.\n",
        "\n",
        "  Returns:\n",
        "    An integer representing the number of vowels in the string.\n",
        "  \"\"\"\n",
        "  vowels = \"aeiouAEIOU\"\n",
        "  vowel_count = 0\n",
        "  for char in text:\n",
        "    if char in vowels:\n",
        "      vowel_count += 1\n",
        "  return vowel_count\n",
        "\n",
        "# Get input from the user\n",
        "input_string = input(\"Enter a string: \")\n",
        "\n",
        "# Count vowels and print the result\n",
        "num_vowels = count_vowels(input_string)\n",
        "print(f\"The number of vowels in \\\"{input_string}\\\" is: {num_vowels}\")"
      ],
      "metadata": {
        "colab": {
          "base_uri": "https://localhost:8080/"
        },
        "id": "YSZtMX30GC0s",
        "outputId": "ff9a9bdf-1337-4de6-cd36-52c3b28b5611"
      },
      "execution_count": 5,
      "outputs": [
        {
          "output_type": "stream",
          "name": "stdout",
          "text": [
            "Enter a string: shiva karthikeya\n",
            "The number of vowels in \"shiva karthikeya\" is: 6\n"
          ]
        }
      ]
    },
    {
      "cell_type": "code",
      "source": [
        "def count_vowels(text):\n",
        "  \"\"\"\n",
        "  Counts the number of vowels in a string.\n",
        "\n",
        "  Args:\n",
        "    text: A string.\n",
        "\n",
        "  Returns:\n",
        "    An integer representing the number of vowels in the string.\n",
        "  \"\"\"\n",
        "  vowels = \"aeiouAEIOU\"\n",
        "  vowel_count = 0\n",
        "  for char in text:\n",
        "    if char in vowels:\n",
        "      vowel_count += 1\n",
        "  return vowel_count\n",
        "\n",
        "# Get input from the user\n",
        "input_string = input(\"Enter a string: \")\n",
        "\n",
        "# Count vowels and print the result\n",
        "num_vowels = count_vowels(input_string)\n",
        "print(f\"The number of vowels in \\\"{input_string}\\\" is: {num_vowels}\")\n",
        "\n",
        "# Examples provided by the user\n",
        "examples = [\n",
        "    (\"Hello, World!\", 3),\n",
        "    (\"Programming\", 3)\n",
        "]\n",
        "\n",
        "print(\"\\nExamples:\")\n",
        "for input_string, expected_output in examples:\n",
        "  actual_output = count_vowels(input_string)\n",
        "  print(f\"Input: \\\"{input_string}\\\" Output: {actual_output} Expected: {expected_output}\")"
      ],
      "metadata": {
        "colab": {
          "base_uri": "https://localhost:8080/"
        },
        "id": "nTfwFINCGZOZ",
        "outputId": "6007e054-689b-4efa-b530-8eae12ebdb52"
      },
      "execution_count": 6,
      "outputs": [
        {
          "output_type": "stream",
          "name": "stdout",
          "text": [
            "Enter a string: karthik sunny\n",
            "The number of vowels in \"karthik sunny\" is: 3\n",
            "\n",
            "Examples:\n",
            "Input: \"Hello, World!\" Output: 3 Expected: 3\n",
            "Input: \"Programming\" Output: 3 Expected: 3\n"
          ]
        }
      ]
    },
    {
      "cell_type": "markdown",
      "source": [
        "●Use few-shot prompting to generate a function that reads a .txt file and returns the number of lines."
      ],
      "metadata": {
        "id": "gTkeYh0PGnbb"
      }
    },
    {
      "cell_type": "code",
      "source": [
        "def count_lines_in_file(file_path):\n",
        "  \"\"\"\n",
        "  Reads a text file and returns the number of lines.\n",
        "\n",
        "  Args:\n",
        "    file_path: A string representing the path to the text file.\n",
        "\n",
        "  Returns:\n",
        "    An integer representing the number of lines in the file, or None if an error occurs.\n",
        "  \"\"\"\n",
        "  try:\n",
        "    with open(file_path, 'r') as file:\n",
        "      line_count = sum(1 for line in file)\n",
        "    return line_count\n",
        "  except FileNotFoundError:\n",
        "    print(f\"Error: File not found at {file_path}\")\n",
        "    return None\n",
        "  except Exception as e:\n",
        "    print(f\"An error occurred: {e}\")\n",
        "    return None\n",
        "\n",
        "# Get file path from the user\n",
        "file_path = input(\"Enter the path to the text file: \")\n",
        "\n",
        "# Count the lines and print the result\n",
        "num_lines = count_lines_in_file(file_path)\n",
        "\n",
        "if num_lines is not None:\n",
        "  print(f\"\\nThe number of lines in the file is: {num_lines}\")"
      ],
      "metadata": {
        "colab": {
          "base_uri": "https://localhost:8080/"
        },
        "id": "SZSdWiAFHQ0H",
        "outputId": "21554d40-2dc2-4e85-f84e-9c66b53472ae"
      },
      "execution_count": 9,
      "outputs": [
        {
          "output_type": "stream",
          "name": "stdout",
          "text": [
            "Enter the path to the text file: lab4.txt\n",
            "Error: File not found at lab4.txt\n"
          ]
        }
      ]
    }
  ]
}